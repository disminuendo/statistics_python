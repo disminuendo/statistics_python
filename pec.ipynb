{
 "cells": [
  {
   "attachments": {},
   "cell_type": "markdown",
   "id": "a28acbae",
   "metadata": {},
   "source": [
    "## Ejercicio 1\n",
    "\n",
    "Se considera una variable aleatoria continua X que tiene función de distribución F(x) definida por:\n",
    "\n",
    "$$ F(x) = \\begin{cases} 0 & \\text{si } x < 0 \\\\ (x^2 + x^2)/2 & \\text{si } 0 \\leq x < 1 \\\\ 1 & \\text{si } x \\geq 1 \\end{cases} $$\n",
    "\n",
    "\n",
    ">1. Calcular el valor teórico de E(X).\n",
    "\n",
    ">2. Hallar la función de cuantiles de F y utilizarla para simular valores de la variable X a partir de los valores de una variable U con distribución uniforme en el intervalo (0,1). Construir tres escenarios de simulación a partir de $N=10^3$, $N=10^5$ y $N=10^7$ valores de U. Utilizar los resultados de las simulaciones para aproximar E(X) y analizar la precisión de la aproximación en función del número N de valores simulados.  \n",
    "  "
   ]
  },
  {
   "attachments": {},
   "cell_type": "markdown",
   "id": "ff53be40",
   "metadata": {},
   "source": [
    "### Apartado 1\n",
    "\n",
    "Para calcular la esperanza de la variable aleatoria X, primero necesitamos determinar su función de densidad de probabilidad a partir de la función de distribución F(x). La función de densidad de probabilidad se puede obtener tomando la derivada de la función de distribución:\n",
    "f(x) = dF(x)/dx\n",
    "\n",
    "En este caso, la función de distribución F(x) es por tramos, por lo que necesitamos calcular las correspondientes funciones de densidad para cada tramo:\n",
    "\n",
    "    Para x < 0: F(x) = 0, por lo tanto f(x) = dF(x)/dx = 0.\n",
    "    Para 0 ≤ x < 1: F(x) = (x^2 + x^2)/2, por lo tanto f(x) = dF(x)/dx = 2x.\n",
    "    Para x ≥ 1: F(x) = 1, por lo tanto f(x) = dF(x)/dx = 0.\n",
    "\n",
    "Por lo tanto, la función de densidad de probabilidad de X es:\n",
    "\n",
    "f(x) = { 0 si x < 0, 4x si 0 ≤ x < 1, 0 si x ≥ 1 }\n",
    "\n",
    "Para calcular la esperanza de X, usamos la fórmula general:\n",
    "\n",
    "E(X) = ∫ x f(x) dx\n"
   ]
  },
  {
   "cell_type": "code",
   "execution_count": 2,
   "id": "7585a707",
   "metadata": {},
   "outputs": [
    {
     "name": "stdout",
     "output_type": "stream",
     "text": [
      "2/3\n"
     ]
    }
   ],
   "source": [
    "import sympy as syp\n",
    "\n",
    "x = syp.Symbol('x')\n",
    "infinito = syp.oo\n",
    "\n",
    "\n",
    "def calcular_esperanza_individual(datos_funcion):\n",
    "    derivada = syp.diff(datos_funcion[\"funcion\"], x)\n",
    "    esperanza = syp.integrate(x * derivada, (x, datos_funcion[\"inicio\"], datos_funcion[\"fin\"]))\n",
    "    return esperanza\n",
    "\n",
    "def calcular_esperanza_total(funcion_por_tramos):\n",
    "    esperanzas_por_tramos = list(map(calcular_esperanza_individual, funcion_por_tramos))\n",
    "    return sum(esperanzas_por_tramos)\n",
    "\n",
    "\n",
    "funcion_por_tramos = [{\n",
    "    \"funcion\": 0,\n",
    "    \"inicio\": -infinito,\n",
    "    \"fin\": 0\n",
    "},\n",
    "    {\n",
    "    \"funcion\": (x**2 + x**2)/2,\n",
    "    \"inicio\": 0,\n",
    "    \"fin\": 1\n",
    "},\n",
    "    {\n",
    "    \"funcion\": 1,\n",
    "    \"inicio\": 1,\n",
    "    \"fin\": infinito,\n",
    "}]\n",
    "\n",
    "print(calcular_esperanza_total(funcion_por_tramos))"
   ]
  },
  {
   "attachments": {},
   "cell_type": "markdown",
   "id": "a75dbdb4",
   "metadata": {},
   "source": [
    "### Apartado 2\n",
    "\n",
    "Para hallar la funcion de cuantiles debemos de calcular la inversa de de la función de distribución."
   ]
  },
  {
   "cell_type": "code",
   "execution_count": 3,
   "id": "f1676f1f",
   "metadata": {},
   "outputs": [
    {
     "name": "stdout",
     "output_type": "stream",
     "text": [
      "[-sqrt(y), sqrt(y)]\n"
     ]
    }
   ],
   "source": [
    "import numpy as np\n",
    "y = syp.Symbol('y')\n",
    "x = syp.Symbol('x')\n",
    "\n",
    "f = (x ** 2 + x ** 2)/2\n",
    "\n",
    "resultados_inversa = syp.solve(syp.Eq(f, y), x)\n",
    "print(resultados_inversa)"
   ]
  },
  {
   "attachments": {},
   "cell_type": "markdown",
   "id": "cbba8e1c",
   "metadata": {},
   "source": [
    "Debido a que la esperanza de la variable no puede ser menor que 0, la funcion de cuantiles es: $$ \\sqrt{x} $$"
   ]
  },
  {
   "cell_type": "code",
   "execution_count": 4,
   "id": "c46f7a87",
   "metadata": {},
   "outputs": [],
   "source": [
    "def funcion_cuantiles(x):\n",
    "    return np.sqrt(x)"
   ]
  },
  {
   "cell_type": "code",
   "execution_count": 22,
   "id": "64c518d9",
   "metadata": {},
   "outputs": [
    {
     "name": "stdout",
     "output_type": "stream",
     "text": [
      "0.6707201064687909 0.6673584794596982 0.6665859272407196\n"
     ]
    }
   ],
   "source": [
    "N1 = 10**3\n",
    "N2 = 10**5\n",
    "N3 = 10**7\n",
    "\n",
    "U1 = np.random.uniform(0., 1., size=N1)\n",
    "U2 = np.random.uniform(0., 1., size=N2)\n",
    "U3 = np.random.uniform(0., 1., size=N3)\n",
    "\n",
    "X1 = funcion_cuantiles(U1)\n",
    "X2 = funcion_cuantiles(U2)\n",
    "X3 = funcion_cuantiles(U3)\n",
    "\n",
    "print(np.mean(X1), np.mean(X2), np.mean(X3))\n"
   ]
  }
 ],
 "metadata": {
  "kernelspec": {
   "display_name": "Python 3",
   "language": "python",
   "name": "python3"
  },
  "language_info": {
   "codemirror_mode": {
    "name": "ipython",
    "version": 3
   },
   "file_extension": ".py",
   "mimetype": "text/x-python",
   "name": "python",
   "nbconvert_exporter": "python",
   "pygments_lexer": "ipython3",
   "version": "3.10.8"
  }
 },
 "nbformat": 4,
 "nbformat_minor": 5
}
